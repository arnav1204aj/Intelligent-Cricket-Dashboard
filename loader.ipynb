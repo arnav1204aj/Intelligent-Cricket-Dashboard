{
 "cells": [
  {
   "cell_type": "code",
   "execution_count": 4,
   "id": "f0a60f5d",
   "metadata": {},
   "outputs": [
    {
     "name": "stdout",
     "output_type": "stream",
     "text": [
      "{'pace_intent': 1.35, 'pace_reliability': 1.15, 'spin_intent': 1.17, 'spin_reliability': 1.16, 'pace_int_rel': 1.55, 'spin_int_rel': 1.36, 'avg_intent': 1.26, 'avg_reliability': 1.15, 'avg_int_rel': 1.45}\n",
      "{'final_intent_impact': 23.363086565631995, 'impact_acceleration': 0.4767976850128979, 'negative_impact_duration': 1, 'impact_improvement': 0.179952319376109, 'improvement_rate': 0.0036724963137981428, 'improvement_pct': 54.166666666666664}\n",
      "{'score360': np.float64(514.53), 'ground_coverage_pct': np.float64(71.1), 'audacity': np.float64(5.49), 'aggressive_bp_pct': 33.6, 'overall_bp_pct': 26.5, 'diff_shot_effect': 1.27}\n",
      "{'primary_focus': 'Length', 'least_affected_by': 'Field Changes'}\n"
     ]
    }
   ],
   "source": [
    "import pickle\n",
    "\n",
    "def load_and_print_intent_stats(bin_path):\n",
    "    # Load the pickle file\n",
    "    with open(bin_path, \"rb\") as f:\n",
    "        stats = pickle.load(f)\n",
    "    \n",
    "    print(stats['Suryakumar Yadav'])\n",
    "    # Print each batter and their metrics\n",
    "    # for batter, metrics in stats.items():\n",
    "    #     print(f\"=== {batter} ===\")\n",
    "    #     for metric, value in metrics.items():\n",
    "    #         print(f\"{metric.replace('_', ' ').title()}: {value}\")\n",
    "    #     print()\n",
    "\n",
    "if __name__ == \"__main__\":\n",
    "    # adjust the path if needed\n",
    "    paths = [\"data/t20_intent_reliability_stats.bin\",\"data/batter_intent_stats.bin\",\"data/t20_batter_stats_360.bin\",\"data/t20_entropy_focus.bin\"]\n",
    "    for p in paths:\n",
    "        load_and_print_intent_stats(p)\n",
    "    \n"
   ]
  }
 ],
 "metadata": {
  "kernelspec": {
   "display_name": "Python 3",
   "language": "python",
   "name": "python3"
  },
  "language_info": {
   "codemirror_mode": {
    "name": "ipython",
    "version": 3
   },
   "file_extension": ".py",
   "mimetype": "text/x-python",
   "name": "python",
   "nbconvert_exporter": "python",
   "pygments_lexer": "ipython3",
   "version": "3.11.0"
  }
 },
 "nbformat": 4,
 "nbformat_minor": 5
}
