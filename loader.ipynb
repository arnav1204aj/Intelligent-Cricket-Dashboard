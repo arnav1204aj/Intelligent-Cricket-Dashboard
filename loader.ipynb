{
 "cells": [
  {
   "cell_type": "code",
   "execution_count": null,
   "id": "f0a60f5d",
   "metadata": {},
   "outputs": [
    {
     "name": "stdout",
     "output_type": "stream",
     "text": [
      "{'pace_intent': 1.08, 'pace_reliability': 1.25, 'spin_intent': 0.99, 'spin_reliability': 1.15, 'pace_int_rel': 1.35, 'spin_int_rel': 1.14, 'avg_intent': 1.04, 'avg_reliability': 1.2, 'avg_int_rel': 1.25}\n",
      "{'final_intent_impact': 13.733814943955947, 'impact_acceleration': 0.40393573364576313, 'negative_impact_duration': 1, 'impact_improvement': 0.6673045309261063, 'improvement_rate': 0.019626603850767834, 'improvement_pct': 48.484848484848484}\n",
      "{'score360': np.float64(355.12), 'ground_coverage_pct': np.float64(39.4), 'audacity': np.float64(4.71), 'aggressive_bp_pct': 25.6, 'overall_bp_pct': 22.1, 'diff_shot_effect': 1.16}\n",
      "{'primary_focus': 'Bowler Kind', 'least_affected_by': 'Field Changes'}\n",
      "1\n"
     ]
    }
   ],
   "source": [
    "import pickle\n",
    "\n",
    "def load_and_print_intent_stats(bin_path):\n",
    "    # Load the pickle file\n",
    "    with open(bin_path, \"rb\") as f:\n",
    "        stats = pickle.load(f)\n",
    "    \n",
    "    print(stats['Rinku Singh'])\n",
    "    # Print each batter and their metrics\n",
    "    # for batter, metrics in stats.items():\n",
    "    #     print(f\"=== {batter} ===\")\n",
    "    #     for metric, value in metrics.items():\n",
    "    #         print(f\"{metric.replace('_', ' ').title()}: {value}\")\n",
    "    #     print()\n",
    "\n",
    "if __name__ == \"__main__\":\n",
    "    # adjust the path if needed\n",
    "    paths = [\"data/t20_intent_reliability_stats.bin\",\"data/batter_intent_stats.bin\",\"data/t20_batter_stats_360.bin\",\"data/t20_entropy_focus.bin\"]\n",
    "    for p in paths:\n",
    "        load_and_print_intent_stats(p)\n",
    "    \n"
   ]
  },
  {
   "cell_type": "code",
   "execution_count": 9,
   "id": "f9db3dcb",
   "metadata": {},
   "outputs": [
    {
     "name": "stdout",
     "output_type": "stream",
     "text": [
      "Saved metric percentiles → data/metric_percentiles.bin\n"
     ]
    }
   ],
   "source": [
    "import pickle\n",
    "import pandas as pd\n",
    "from scipy.stats import rankdata\n",
    "\n",
    "# map the same section names used in your app to their .bin paths\n",
    "SECTIONS = {\n",
    "    \"Intent & Reliability\":      \"data/t20_intent_reliability_stats.bin\",\n",
    "    \"Intent Impact Metrics\":     \"data/batter_intent_stats.bin\",\n",
    "    \"360° Shot Metrics\":         \"data/t20_batter_stats_360.bin\",\n",
    "}\n",
    "\n",
    "percentiles = {}\n",
    "\n",
    "for section, path in SECTIONS.items():\n",
    "    with open(path, \"rb\") as f:\n",
    "        data = pickle.load(f)\n",
    "    # build DataFrame: rows=batter, cols=metrics\n",
    "    df = pd.DataFrame.from_dict(data, orient=\"index\")\n",
    "    \n",
    "    # keep only numeric columns\n",
    "    num_df = df.select_dtypes(include=\"number\")\n",
    "    if num_df.empty:\n",
    "        continue\n",
    "\n",
    "    # compute percentile rank (0–100) for each column\n",
    "    pct_df = num_df.rank(pct=True, method=\"average\") * 100\n",
    "\n",
    "    # build nested dict: percentiles[section][batter][metric] = percentile\n",
    "    pct_map = {\n",
    "        batter: pct_df.loc[batter].to_dict()\n",
    "        for batter in pct_df.index\n",
    "    }\n",
    "    percentiles[section] = pct_map\n",
    "\n",
    "# save the combined percentile map\n",
    "with open(\"data/metric_percentiles.bin\", \"wb\") as f:\n",
    "    pickle.dump(percentiles, f)\n",
    "\n",
    "print(\"Saved metric percentiles → data/metric_percentiles.bin\")\n"
   ]
  },
  {
   "cell_type": "code",
   "execution_count": null,
   "id": "9fbb4e01",
   "metadata": {},
   "outputs": [],
   "source": [
    "print(percentiles)"
   ]
  }
 ],
 "metadata": {
  "kernelspec": {
   "display_name": "Python 3",
   "language": "python",
   "name": "python3"
  },
  "language_info": {
   "codemirror_mode": {
    "name": "ipython",
    "version": 3
   },
   "file_extension": ".py",
   "mimetype": "text/x-python",
   "name": "python",
   "nbconvert_exporter": "python",
   "pygments_lexer": "ipython3",
   "version": "3.11.0"
  }
 },
 "nbformat": 4,
 "nbformat_minor": 5
}
