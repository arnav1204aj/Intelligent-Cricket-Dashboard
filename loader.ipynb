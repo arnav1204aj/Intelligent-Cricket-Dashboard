{
 "cells": [
  {
   "cell_type": "code",
   "execution_count": null,
   "id": "f0a60f5d",
   "metadata": {},
   "outputs": [
    {
     "name": "stdout",
     "output_type": "stream",
     "text": [
      "{'pace_intent': 1.19, 'pace_reliability': 1.09, 'spin_intent': 0.97, 'spin_reliability': 1.04, 'pace_int_rel': 1.3, 'spin_int_rel': 1.01, 'avg_intent': 1.08, 'avg_reliability': 1.06, 'avg_int_rel': 1.14}\n",
      "{'final_intent_impact': 8.636179095028579, 'impact_acceleration': 0.16608036721208805, 'negative_impact_duration': 8, 'impact_improvement': -0.0648849501375502, 'improvement_rate': -0.0012477875026451963, 'improvement_pct': 58.82352941176471}\n",
      "{'score360': np.float64(285.6), 'ground_coverage_pct': np.float64(32.1), 'audacity': np.float64(4.46), 'aggressive_bp_pct': 26.2, 'overall_bp_pct': 16.7, 'diff_shot_effect': 1.57}\n",
      "{'primary_focus': 'Field Setting', 'least_affected_by': 'Line Changes'}\n",
      "22\n"
     ]
    }
   ],
   "source": [
    "import pickle\n",
    "\n",
    "def load_and_print_intent_stats(bin_path):\n",
    "    # Load the pickle file\n",
    "    with open(bin_path, \"rb\") as f:\n",
    "        stats = pickle.load(f)\n",
    "    \n",
    "    print(stats['Rinku Singh'])\n",
    "    # Print each batter and their metrics\n",
    "    # for batter, metrics in stats.items():\n",
    "    #     print(f\"=== {batter} ===\")\n",
    "    #     for metric, value in metrics.items():\n",
    "    #         print(f\"{metric.replace('_', ' ').title()}: {value}\")\n",
    "    #     print()\n",
    "\n",
    "if __name__ == \"__main__\":\n",
    "    # adjust the path if needed\n",
    "    paths = [\"data/t20_intent_reliability_stats.bin\",\"data/batter_intent_stats.bin\",\"data/t20_batter_stats_360.bin\",\"data/t20_entropy_focus.bin\",\"data/negative_dur_pace.bin\"]\n",
    "    for p in paths:\n",
    "        load_and_print_intent_stats(p)\n",
    "    \n"
   ]
  }
 ],
 "metadata": {
  "kernelspec": {
   "display_name": "Python 3",
   "language": "python",
   "name": "python3"
  },
  "language_info": {
   "codemirror_mode": {
    "name": "ipython",
    "version": 3
   },
   "file_extension": ".py",
   "mimetype": "text/x-python",
   "name": "python",
   "nbconvert_exporter": "python",
   "pygments_lexer": "ipython3",
   "version": "3.11.0"
  }
 },
 "nbformat": 4,
 "nbformat_minor": 5
}
